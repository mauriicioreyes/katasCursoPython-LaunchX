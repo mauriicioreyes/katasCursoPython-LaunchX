{
 "cells": [
  {
   "cell_type": "markdown",
   "metadata": {},
   "source": [
    "## Introducción a las listas\n",
    "Python tiene muchos tipos integrados, como cadenas y enteros. Python tiene un tipo para almacenar una colección de valores: la lista.\n",
    "### Crear una lista\n",
    "Para crear una lista, asigne una secuencia de valores a una variable. Cada valor está separado por una coma y rodeado por corchetes (``[]``)."
   ]
  },
  {
   "cell_type": "code",
   "execution_count": 2,
   "metadata": {},
   "outputs": [
    {
     "name": "stdout",
     "output_type": "stream",
     "text": [
      "['Mercury', 'Venus', 'Earth', 'Mars', 'Jupiter', 'Saturn', 'Uranus', 'Neptune']\n"
     ]
    }
   ],
   "source": [
    "planets = ['Mercury', 'Venus', 'Earth', 'Mars', 'Jupiter', 'Saturn', 'Uranus', 'Neptune']\n",
    "print(planets)"
   ]
  },
  {
   "cell_type": "code",
   "execution_count": 6,
   "metadata": {},
   "outputs": [
    {
     "name": "stdout",
     "output_type": "stream",
     "text": [
      "The first planet is Mercury\n",
      "The second planet is Venus\n",
      "The third planet is Earth\n"
     ]
    }
   ],
   "source": [
    "# Acceder a valor mediante índice\n",
    "print('The first planet is', planets[0])\n",
    "print('The second planet is', planets[1])\n",
    "print('The third planet is', planets[2])"
   ]
  },
  {
   "cell_type": "code",
   "execution_count": 7,
   "metadata": {},
   "outputs": [
    {
     "name": "stdout",
     "output_type": "stream",
     "text": [
      "Mars is also know as Red Planet\n"
     ]
    }
   ],
   "source": [
    "# Modificar valor mediante índice\n",
    "planets[3] = 'Red Planet'\n",
    "print('Mars is also know as', planets[3])"
   ]
  },
  {
   "cell_type": "markdown",
   "metadata": {},
   "source": [
    "### Determinar la longitud de una lista\n"
   ]
  },
  {
   "cell_type": "code",
   "execution_count": 8,
   "metadata": {},
   "outputs": [
    {
     "name": "stdout",
     "output_type": "stream",
     "text": [
      "There are 8 planets in the solar system.\n"
     ]
    }
   ],
   "source": [
    "number_of_planets = len(planets)\n",
    "print('There are', number_of_planets, 'planets in the solar system.')"
   ]
  },
  {
   "cell_type": "markdown",
   "metadata": {},
   "source": [
    "### Agregar valores a listas\n",
    "Las listas en Python son dinámicas: Es decir, puedes agregar y eliminar elementos después de crearlos.\n",
    "Para agregar un elemento a una lista, utilice el método `.append(value)`."
   ]
  },
  {
   "cell_type": "code",
   "execution_count": 9,
   "metadata": {},
   "outputs": [
    {
     "name": "stdout",
     "output_type": "stream",
     "text": [
      "There are actually 9 planets in the solar system.\n"
     ]
    }
   ],
   "source": [
    "planets.append('Pluto')\n",
    "number_of_planets = len(planets)\n",
    "print('There are actually', number_of_planets, 'planets in the solar system.')"
   ]
  },
  {
   "cell_type": "markdown",
   "metadata": {},
   "source": [
    "### Eliminar valores de una lista\n",
    "Puedes eliminar el último elemento de una lista llamando al método `.pop()` de la variable de lista."
   ]
  },
  {
   "cell_type": "code",
   "execution_count": 10,
   "metadata": {},
   "outputs": [
    {
     "name": "stdout",
     "output_type": "stream",
     "text": [
      "No, there are definitely 8 planets in the solar system.\n"
     ]
    }
   ],
   "source": [
    "planets.pop()\n",
    "number_of_planets = len(planets)\n",
    "print('No, there are definitely', number_of_planets, 'planets in the solar system.')"
   ]
  },
  {
   "cell_type": "markdown",
   "metadata": {},
   "source": [
    "### Índices negativos\n",
    "Los índices comienzan en cero y aumentan. Los índices negativos comienzan al final de la lista y trabajan hacia atrás."
   ]
  },
  {
   "cell_type": "code",
   "execution_count": 14,
   "metadata": {},
   "outputs": [
    {
     "name": "stdout",
     "output_type": "stream",
     "text": [
      "The last planet is Neptune\n",
      "The penultimate planet is Uranus\n"
     ]
    }
   ],
   "source": [
    "print('The last planet is', planets[-1])\n",
    "print('The penultimate planet is', planets[-2] )"
   ]
  },
  {
   "cell_type": "markdown",
   "metadata": {},
   "source": [
    "### Buscar un valor en la lista\n",
    "Para determinar en qué parte de una lista se almacena un valor, utilizamos el método `.index()` de la lista. Este método busca el valor y devuelve el índice de ese elemento en la lista. Si no encuentra una coincidencia, devuelve `-1`."
   ]
  },
  {
   "cell_type": "code",
   "execution_count": 21,
   "metadata": {},
   "outputs": [
    {
     "name": "stdout",
     "output_type": "stream",
     "text": [
      "Jupiter is the 5 planet from the sun.\n"
     ]
    }
   ],
   "source": [
    "jupiter_index = planets.index('Jupiter')\n",
    "print('Jupiter is the', jupiter_index + 1, 'planet from the sun.')"
   ]
  },
  {
   "cell_type": "markdown",
   "metadata": {},
   "source": [
    "### Almacenar números en listas\n",
    "Para almacenar números con decimales en Python, utilizamos el tipo `float`. Para crear un float, introduzca el número con decimal y asígnelo a una variable:"
   ]
  },
  {
   "cell_type": "code",
   "execution_count": 22,
   "metadata": {},
   "outputs": [],
   "source": [
    "gravity_on_earth = 1.0\n",
    "gravity_on_the_moon = 0.166"
   ]
  },
  {
   "cell_type": "code",
   "execution_count": 23,
   "metadata": {},
   "outputs": [],
   "source": [
    "# Lista de fuerzas gravitacionales\n",
    "gravity_on_planets = [0.378, 0.907, 1, 0.379, 2.36, 0.916, 0.889, 1.12]"
   ]
  },
  {
   "cell_type": "markdown",
   "metadata": {},
   "source": [
    "En la Tierra, un autobús pesa 12,650 kg, que es 12.65 toneladas. En Mercurio, donde la gravedad es de 0.378 G, el mismo autobús pesa 12.64 toneladas multiplicadas por 0.378."
   ]
  },
  {
   "cell_type": "code",
   "execution_count": 26,
   "metadata": {},
   "outputs": [
    {
     "name": "stdout",
     "output_type": "stream",
     "text": [
      "On Earth, a double-decker bus weighs 12650 kg.\n",
      "On Mercury, a double-decker bus weighs 4781.7 kg.\n"
     ]
    }
   ],
   "source": [
    "bus_weight = 12650 # in kilograms, on Earth\n",
    "\n",
    "print('On Earth, a double-decker bus weighs', bus_weight, 'kg.')\n",
    "print('On Mercury, a double-decker bus weighs', bus_weight * gravity_on_planets[0], 'kg.')"
   ]
  },
  {
   "cell_type": "markdown",
   "metadata": {},
   "source": [
    "### min() y max() con listas\n",
    "Python tiene funciones integradas para calcular los npumeros más grandes y más pequeños de una lista. La función `max()` devuelve el número más grande y la función `min()` devuelve el más pequeño. `min(gravity_on_planets)`"
   ]
  },
  {
   "cell_type": "code",
   "execution_count": 27,
   "metadata": {},
   "outputs": [
    {
     "name": "stdout",
     "output_type": "stream",
     "text": [
      "On Earth, a double-decker bus weighs 12650 kg.\n",
      "The lightest a bus would be in the solar system is 4781.7 kg.\n",
      "The heaviest a bus would be in the solar system is 29854.0 kg.\n"
     ]
    }
   ],
   "source": [
    "bus_weight = 12650 # in kilograms, on Earth\n",
    "\n",
    "print('On Earth, a double-decker bus weighs', bus_weight, 'kg.')\n",
    "print('The lightest a bus would be in the solar system is', bus_weight * min(gravity_on_planets), 'kg.')\n",
    "print('The heaviest a bus would be in the solar system is', bus_weight * max(gravity_on_planets), 'kg.')"
   ]
  },
  {
   "cell_type": "markdown",
   "metadata": {},
   "source": [
    "### Manipular datos de lista\n",
    "Python proporciona un soporte sólido para trabajar con los datos de las listas. Este soporte incluye el `slicing` (examinando solo una parte) y el `sorting`."
   ]
  },
  {
   "cell_type": "markdown",
   "metadata": {},
   "source": [
    "### Slice list\n",
    "Puedes recuperar una parte de una lista mediante un `slice` (entendamos slice como una porción, un fragmento, segmento). `slice` utiliza corchetes, pero en lugar de un solo elemento, tiene los índices inicial y final de los elementos que queremos recuperar. Se crea una nueva lista que inicia en el índice inicial y temrina antes del índice final."
   ]
  },
  {
   "cell_type": "code",
   "execution_count": 28,
   "metadata": {},
   "outputs": [
    {
     "name": "stdout",
     "output_type": "stream",
     "text": [
      "['Mercury', 'Venus']\n"
     ]
    }
   ],
   "source": [
    "planets = ['Mercury', 'Venus', 'Earth', 'Mars', 'Jupiter', 'Saturn', 'Uranus', 'Neptune']\n",
    "planets_before_earth = planets[0:2]\n",
    "print(planets_before_earth)"
   ]
  },
  {
   "cell_type": "markdown",
   "metadata": {},
   "source": [
    "Para obtener todos los planetas después de la Tierra, comenzamos en el tercero y vamos al octavo"
   ]
  },
  {
   "cell_type": "code",
   "execution_count": 32,
   "metadata": {},
   "outputs": [
    {
     "name": "stdout",
     "output_type": "stream",
     "text": [
      "['Mars', 'Jupiter', 'Saturn', 'Uranus', 'Neptune']\n"
     ]
    }
   ],
   "source": [
    "planets_after_earth = planets[3:8]\n",
    "print(planets_after_earth)"
   ]
  },
  {
   "cell_type": "markdown",
   "metadata": {},
   "source": [
    "Si no coloca el índice de detención en el `slice`, Python asume que deseas ir al final de la lista"
   ]
  },
  {
   "cell_type": "code",
   "execution_count": 30,
   "metadata": {},
   "outputs": [
    {
     "name": "stdout",
     "output_type": "stream",
     "text": [
      "['Mars', 'Jupiter', 'Saturn', 'Uranus', 'Neptune']\n"
     ]
    }
   ],
   "source": [
    "planets_after_earth = planets[3:]\n",
    "print(planets_after_earth)"
   ]
  },
  {
   "cell_type": "markdown",
   "metadata": {},
   "source": [
    "Un `slice` crea una nueva lista. No modifica la lista actual."
   ]
  },
  {
   "cell_type": "markdown",
   "metadata": {},
   "source": [
    "### Uniendo listas\n",
    "Para unir dos listas, utilice el operador `(+)` con dos listas para devolver una nueva lista."
   ]
  },
  {
   "cell_type": "code",
   "execution_count": 34,
   "metadata": {},
   "outputs": [
    {
     "name": "stdout",
     "output_type": "stream",
     "text": [
      "The regular satellite moons of Jupiter are ['Metis', 'Adrastea', 'Amaltea', 'Teba', 'Io', 'Europa', 'Gamímedes', 'Calisto']\n"
     ]
    }
   ],
   "source": [
    "lunas_galileanas = ['Io', 'Europa', 'Gamímedes', 'Calisto']\n",
    "lunas_amaltea = ['Metis', 'Adrastea', 'Amaltea', 'Teba']\n",
    "\n",
    "lunas = lunas_amaltea + lunas_galileanas\n",
    "print('The regular satellite moons of Jupiter are', lunas)"
   ]
  },
  {
   "cell_type": "markdown",
   "metadata": {},
   "source": [
    "### Ordenar listas\n",
    "Para ordenar una lista, utilizamos el método `sort()` de la lista. Python ordenará una lista de cadenas en orden alfabético y una lista de números en orden numérico."
   ]
  },
  {
   "cell_type": "code",
   "execution_count": 35,
   "metadata": {},
   "outputs": [
    {
     "name": "stdout",
     "output_type": "stream",
     "text": [
      "The regular satellite moons of Jupiter are ['Adrastea', 'Amaltea', 'Calisto', 'Europa', 'Gamímedes', 'Io', 'Metis', 'Teba']\n"
     ]
    }
   ],
   "source": [
    "lunas.sort()\n",
    "print('The regular satellite moons of Jupiter are', lunas)"
   ]
  },
  {
   "cell_type": "markdown",
   "metadata": {},
   "source": [
    "Para ordenar una lista en forma inversa, llamamos al método `.sort(reverse=True)` de la lista."
   ]
  },
  {
   "cell_type": "code",
   "execution_count": 36,
   "metadata": {},
   "outputs": [
    {
     "name": "stdout",
     "output_type": "stream",
     "text": [
      "The regular satellite moons of Jupiter are ['Teba', 'Metis', 'Io', 'Gamímedes', 'Europa', 'Calisto', 'Amaltea', 'Adrastea']\n"
     ]
    }
   ],
   "source": [
    "lunas.sort(reverse=True)\n",
    "print('The regular satellite moons of Jupiter are', lunas)"
   ]
  }
 ],
 "metadata": {
  "interpreter": {
   "hash": "cd71c9e9e296960300cd6209c2e29aa83d05635c16931b7ada959bae1fc1a84f"
  },
  "kernelspec": {
   "display_name": "Python 3.10.2 64-bit",
   "language": "python",
   "name": "python3"
  },
  "language_info": {
   "codemirror_mode": {
    "name": "ipython",
    "version": 3
   },
   "file_extension": ".py",
   "mimetype": "text/x-python",
   "name": "python",
   "nbconvert_exporter": "python",
   "pygments_lexer": "ipython3",
   "version": "3.10.2"
  },
  "orig_nbformat": 4
 },
 "nbformat": 4,
 "nbformat_minor": 2
}
