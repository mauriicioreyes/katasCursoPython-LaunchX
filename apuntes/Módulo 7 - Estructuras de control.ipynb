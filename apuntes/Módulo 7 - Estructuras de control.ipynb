{
 "cells": [
  {
   "cell_type": "markdown",
   "metadata": {},
   "source": [
    "### Estructuras de control\n",
    "Python proporciona dos mecanismos para realizar tareas repetitivas: los ciclos `while` y `for`."
   ]
  },
  {
   "cell_type": "markdown",
   "metadata": {},
   "source": [
    "### Acerca de los ciclos `while`\n",
    "Un ciclo `while` realiza una operación *mientras* (`while` en inglés) *una determinada condición es True*.\n",
    "\n",
    "Lo más importante que se debe recordar al crear ciclos `while` es asegurarse de que cambia la condición. Si la condición siempre es True, Python seguirá ejecutando el código hasta que el programa se bloquee."
   ]
  },
  {
   "cell_type": "markdown",
   "metadata": {},
   "source": [
    "La sintaxis de un ciclo `while` es similar a la de una instrucción `if`. Proporciona una condición, así como el código que quieres ejecutar mientras la condición sea `true` (oséa, mientras la condición se cumpla o sea verdadera).\n",
    "\n",
    "Un ciclo `while` tiene tres partes importantes:\n",
    "\n",
    "* La palabra `while`, seguida de un espacio.\n",
    "* La condición que se va a probar. Si la condición es `true`, se ejecutará el código dentro del ciclo `while`.\n",
    "* El código que quiere ejecutar para cada elemento del objeto iterable, seguido de espacios en blanco anidados."
   ]
  },
  {
   "cell_type": "markdown",
   "metadata": {},
   "source": [
    "while condition:\n",
    "    # lo que quieres que se ejecute"
   ]
  },
  {
   "cell_type": "markdown",
   "metadata": {},
   "source": [
    "Se lee de la siguiente manera:\n",
    "*Mientras la condición se cumpla: ejecuta el código.*"
   ]
  },
  {
   "cell_type": "code",
   "execution_count": 2,
   "metadata": {},
   "outputs": [],
   "source": [
    "user_input = ''\n",
    "\n",
    "while user_input.lower() != 'done' :\n",
    "    user_input = input('Ingresa un nuevo valor, o done cuando termines')"
   ]
  },
  {
   "cell_type": "code",
   "execution_count": 1,
   "metadata": {},
   "outputs": [],
   "source": [
    "# Creamos la variable que almacena el texto\n",
    "user_input = ''\n",
    "\n",
    "# Creamos la lista que almacena cada uno de los textos que el usuario ingresa\n",
    "inputs = []\n",
    "\n",
    "# Ciclo while\n",
    "while user_input.lower() != 'done' :\n",
    "    # Verificamos si hay un valor en user_input\n",
    "    if user_input :\n",
    "        # Almacenamos ese valor en la lista\n",
    "        inputs.append(user_input)\n",
    "    # Capturamos un nuevo valor\n",
    "    user_input = input('Ingresa un nuevo valor, o done cuandon termines')"
   ]
  },
  {
   "cell_type": "markdown",
   "metadata": {},
   "source": [
    "> Es posible que en otros lenguajes de programación hayas visto el uso del ciclo 'do', lo que permite realizar una verificación al final del ciclo. En python no existe un ciclo 'do'."
   ]
  },
  {
   "cell_type": "markdown",
   "metadata": {},
   "source": [
    "### Uso de ciclos `for` con listas\n",
    "En Python, las listas pueden almacenar cualquier tipo de valor, como cadenas o números.\n",
    "\n",
    "También puede determinar el número de elementos de una lista mediante `len`. Por lo tanto, podría usar un ciclo `while` y un contador para recorrer en ciclo o en iteración cada elemento de la lista.\n",
    "\n",
    "Dado que se trata de una operación tan común, Python proporciona ciclos `for`, que puedes usar para recorrer en iteración las listas.\n",
    "\n",
    ">Python tiene muchos tipos que se pueden recorrer en ciclo. Estos tipos se conocen como iterables.\n",
    "\n",
    "Las listas de Python son iterables y se pueden usar con un ciclo ``for``. Se usa un ciclo ``for`` con objetos iterables que va a recorrer en ciclo un número conocido de veces, una vez para cada elemento del objeto iterable."
   ]
  },
  {
   "cell_type": "markdown",
   "metadata": {},
   "source": [
    "### Acerca de los ciclos `for`"
   ]
  },
  {
   "cell_type": "code",
   "execution_count": 2,
   "metadata": {},
   "outputs": [
    {
     "name": "stdout",
     "output_type": "stream",
     "text": [
      "4\n",
      "3\n",
      "2\n",
      "1\n",
      "0\n",
      "Blast Off!\n"
     ]
    }
   ],
   "source": [
    "countdown = [4, 3, 2, 1, 0]\n",
    "\n",
    "for number in countdown :\n",
    "    print(number)\n",
    "print('Blast Off!')"
   ]
  },
  {
   "cell_type": "markdown",
   "metadata": {},
   "source": [
    "El ciclo `for` es una instrucción con cinco partes importantes:\n",
    "* La palabra `for`, seguida de un espacio.\n",
    "* El nombre de la variable que quieres crear para cada valor de la secuencia (*number*).\n",
    "* La palabra `in`, entre espacios.\n",
    "* El nombre de la lista (*countdown*, en el ejemplo anterior) u objeto iterable que quieres recorrer en ciclo, seguido de dos puntos (`:`).\n",
    "* El código que quieres ejecutar para cada elemento del objeto iterable, separado por espacios en blanco anidados."
   ]
  },
  {
   "cell_type": "code",
   "execution_count": 3,
   "metadata": {},
   "outputs": [
    {
     "name": "stdout",
     "output_type": "stream",
     "text": [
      "4\n",
      "3\n",
      "2\n",
      "1\n",
      "0\n",
      "Blast off!\n"
     ]
    }
   ],
   "source": [
    "# Esperar un segundo entre cada iteración, mediante la función sleep()\n",
    "from time import sleep\n",
    "\n",
    "# Creamos una lista de 5 números llamada countdown\n",
    "countdown = [4, 3, 2, 1, 0]\n",
    "\n",
    "# Para cada número en countdown\n",
    "for number in countdown :\n",
    "    # Muestra el número\n",
    "    print(number)\n",
    "\n",
    "    # Espera (1 segundo)\n",
    "    sleep(1)\n",
    "\n",
    "# Muestra el mensaje\n",
    "print('Blast off!')"
   ]
  }
 ],
 "metadata": {
  "interpreter": {
   "hash": "cd71c9e9e296960300cd6209c2e29aa83d05635c16931b7ada959bae1fc1a84f"
  },
  "kernelspec": {
   "display_name": "Python 3.10.2 64-bit",
   "language": "python",
   "name": "python3"
  },
  "language_info": {
   "codemirror_mode": {
    "name": "ipython",
    "version": 3
   },
   "file_extension": ".py",
   "mimetype": "text/x-python",
   "name": "python",
   "nbconvert_exporter": "python",
   "pygments_lexer": "ipython3",
   "version": "3.10.2"
  },
  "orig_nbformat": 4
 },
 "nbformat": 4,
 "nbformat_minor": 2
}
